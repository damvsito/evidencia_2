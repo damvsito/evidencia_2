{
  "metadata": {
    "kernelspec": {
      "name": "python",
      "display_name": "Python (Pyodide)",
      "language": "python"
    },
    "language_info": {
      "codemirror_mode": {
        "name": "python",
        "version": 3
      },
      "file_extension": ".py",
      "mimetype": "text/x-python",
      "name": "python",
      "nbconvert_exporter": "python",
      "pygments_lexer": "ipython3",
      "version": "3.8"
    }
  },
  "nbformat_minor": 5,
  "nbformat": 4,
  "cells": [
    {
      "cell_type": "code",
      "source": "# Definir la clase Persona sin el uso de property-decorator\nclass Persona:\n    def __init__(self, nombre, edad, genero):\n        self._nombre = nombre\n        self._edad = edad\n        self._genero = genero\n\n    # Método para obtener el nombre\n    def get_nombre(self):\n        return self._nombre\n\n    # Método para obtener la edad\n    def get_edad(self):\n        return self._edad\n\n    # Método para obtener el género\n    def get_genero(self):\n        return self._genero\n\n    # Método para saludar\n    def saludar(self):\n        print(f\"Hola, soy {self._nombre} y tengo {self._edad} años.\")\n\n# Demostración de uso\n# Crear una instancia de la clase Persona\npersona1 = Persona(\"Juan\", 25, \"Masculino\")\n\n# Acceder a los métodos para obtener los atributos\nprint(f\"Nombre: {persona1.get_nombre()}\")\nprint(f\"Edad: {persona1.get_edad()}\")\nprint(f\"Género: {persona1.get_genero()}\")\n\n# Llamar al método saludar\npersona1.saludar()",
      "metadata": {
        "trusted": true
      },
      "execution_count": 1,
      "outputs": [
        {
          "name": "stdout",
          "text": "Nombre: Juan\nEdad: 25\nGénero: Masculino\nHola, soy Juan y tengo 25 años.\n",
          "output_type": "stream"
        }
      ],
      "id": "b4ea13b5-8c76-4c07-95da-176ad4220a5c"
    },
    {
      "cell_type": "code",
      "source": "",
      "metadata": {},
      "execution_count": null,
      "outputs": [],
      "id": "f5264dba-37cc-4b9a-8c42-6e8c649d9c3a"
    }
  ]
}